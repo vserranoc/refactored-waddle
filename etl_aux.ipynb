{
 "cells": [
  {
   "cell_type": "markdown",
   "id": "4f906d78-20af-49be-ad2d-8883c5461f2c",
   "metadata": {},
   "source": [
    "# ETL Auxiliar Notebook\n",
    "Illustrates the process of:\n",
    "1. Extracting tweets through Tweepy into json.\n",
    "2. Transformed it to a dataframe object using Pandas. \n",
    "3. Load the result to Big Query.\n",
    "\n",
    "**Step 0:** Install required packages"
   ]
  },
  {
   "cell_type": "code",
   "execution_count": 1,
   "id": "17e410e7-e474-4e80-a794-3b79c7f76bb2",
   "metadata": {},
   "outputs": [
    {
     "name": "stdout",
     "output_type": "stream",
     "text": [
      "Collecting tweepy\n",
      "  Downloading tweepy-4.6.0-py2.py3-none-any.whl (69 kB)\n",
      "\u001b[2K     \u001b[90m━━━━━━━━━━━━━━━━━━━━━━━━━━━━━━━━━━━━━━━━\u001b[0m \u001b[32m69.3/69.3 KB\u001b[0m \u001b[31m3.9 MB/s\u001b[0m eta \u001b[36m0:00:00\u001b[0m\n",
      "\u001b[?25hRequirement already satisfied: requests-oauthlib<2,>=1.2.0 in /opt/conda/lib/python3.7/site-packages (from tweepy) (1.3.1)\n",
      "Requirement already satisfied: requests<3,>=2.27.0 in /opt/conda/lib/python3.7/site-packages (from tweepy) (2.27.1)\n",
      "Requirement already satisfied: oauthlib<4,>=3.2.0 in /opt/conda/lib/python3.7/site-packages (from tweepy) (3.2.0)\n",
      "Requirement already satisfied: urllib3<1.27,>=1.21.1 in /opt/conda/lib/python3.7/site-packages (from requests<3,>=2.27.0->tweepy) (1.26.8)\n",
      "Requirement already satisfied: idna<4,>=2.5 in /opt/conda/lib/python3.7/site-packages (from requests<3,>=2.27.0->tweepy) (3.3)\n",
      "Requirement already satisfied: certifi>=2017.4.17 in /opt/conda/lib/python3.7/site-packages (from requests<3,>=2.27.0->tweepy) (2021.10.8)\n",
      "Requirement already satisfied: charset-normalizer~=2.0.0 in /opt/conda/lib/python3.7/site-packages (from requests<3,>=2.27.0->tweepy) (2.0.12)\n",
      "Installing collected packages: tweepy\n",
      "Successfully installed tweepy-4.6.0\n"
     ]
    }
   ],
   "source": [
    "!pip install tweepy"
   ]
  },
  {
   "cell_type": "code",
   "execution_count": 9,
   "id": "262c916c-c5ef-437b-a797-665276fd9074",
   "metadata": {},
   "outputs": [
    {
     "name": "stdout",
     "output_type": "stream",
     "text": [
      "Collecting pandas-gbq\n",
      "  Downloading pandas_gbq-0.17.3-py2.py3-none-any.whl (24 kB)\n",
      "Requirement already satisfied: google-api-core!=2.0.*,!=2.1.*,!=2.2.*,!=2.3.0,<3.0.0dev,>=1.31.5 in /opt/conda/lib/python3.7/site-packages (from pandas-gbq) (2.5.0)\n",
      "Requirement already satisfied: pandas>=0.24.2 in /opt/conda/lib/python3.7/site-packages (from pandas-gbq) (1.3.5)\n",
      "Collecting db-dtypes<2.0.0,>=0.3.1\n",
      "  Downloading db_dtypes-0.3.1-py2.py3-none-any.whl (13 kB)\n",
      "Requirement already satisfied: google-cloud-bigquery-storage<3.0.0dev,>=1.1.0 in /opt/conda/lib/python3.7/site-packages (from pandas-gbq) (2.12.0)\n",
      "Collecting pydata-google-auth\n",
      "  Downloading pydata_google_auth-1.3.0-py2.py3-none-any.whl (14 kB)\n",
      "Requirement already satisfied: pyarrow<8.0dev,>=3.0.0 in /opt/conda/lib/python3.7/site-packages (from pandas-gbq) (7.0.0)\n",
      "Requirement already satisfied: google-auth-oauthlib>=0.0.1 in /opt/conda/lib/python3.7/site-packages (from pandas-gbq) (0.4.6)\n",
      "Requirement already satisfied: google-cloud-bigquery!=2.4.*,<4.0.0dev,>=1.27.2 in /opt/conda/lib/python3.7/site-packages (from pandas-gbq) (2.34.0)\n",
      "Requirement already satisfied: numpy>=1.16.6 in /opt/conda/lib/python3.7/site-packages (from pandas-gbq) (1.19.5)\n",
      "Requirement already satisfied: google-auth>=1.25.0 in /opt/conda/lib/python3.7/site-packages (from pandas-gbq) (2.6.0)\n",
      "Requirement already satisfied: setuptools in /opt/conda/lib/python3.7/site-packages (from pandas-gbq) (59.8.0)\n",
      "Collecting pyarrow<8.0dev,>=3.0.0\n",
      "  Downloading pyarrow-6.0.1-cp37-cp37m-manylinux_2_17_x86_64.manylinux2014_x86_64.whl (25.6 MB)\n",
      "\u001b[2K     \u001b[90m━━━━━━━━━━━━━━━━━━━━━━━━━━━━━━━━━━━━━━━━\u001b[0m \u001b[32m25.6/25.6 MB\u001b[0m \u001b[31m49.0 MB/s\u001b[0m eta \u001b[36m0:00:00\u001b[0m00:01\u001b[0m00:01\u001b[0m\n",
      "\u001b[?25hRequirement already satisfied: packaging>=17.0 in /opt/conda/lib/python3.7/site-packages (from db-dtypes<2.0.0,>=0.3.1->pandas-gbq) (21.3)\n",
      "Requirement already satisfied: googleapis-common-protos<2.0dev,>=1.52.0 in /opt/conda/lib/python3.7/site-packages (from google-api-core!=2.0.*,!=2.1.*,!=2.2.*,!=2.3.0,<3.0.0dev,>=1.31.5->pandas-gbq) (1.54.0)\n",
      "Requirement already satisfied: protobuf>=3.12.0 in /opt/conda/lib/python3.7/site-packages (from google-api-core!=2.0.*,!=2.1.*,!=2.2.*,!=2.3.0,<3.0.0dev,>=1.31.5->pandas-gbq) (3.19.4)\n",
      "Requirement already satisfied: requests<3.0.0dev,>=2.18.0 in /opt/conda/lib/python3.7/site-packages (from google-api-core!=2.0.*,!=2.1.*,!=2.2.*,!=2.3.0,<3.0.0dev,>=1.31.5->pandas-gbq) (2.27.1)\n",
      "Requirement already satisfied: rsa<5,>=3.1.4 in /opt/conda/lib/python3.7/site-packages (from google-auth>=1.25.0->pandas-gbq) (4.8)\n",
      "Requirement already satisfied: cachetools<6.0,>=2.0.0 in /opt/conda/lib/python3.7/site-packages (from google-auth>=1.25.0->pandas-gbq) (5.0.0)\n",
      "Requirement already satisfied: six>=1.9.0 in /opt/conda/lib/python3.7/site-packages (from google-auth>=1.25.0->pandas-gbq) (1.16.0)\n",
      "Requirement already satisfied: pyasn1-modules>=0.2.1 in /opt/conda/lib/python3.7/site-packages (from google-auth>=1.25.0->pandas-gbq) (0.2.7)\n",
      "Requirement already satisfied: requests-oauthlib>=0.7.0 in /opt/conda/lib/python3.7/site-packages (from google-auth-oauthlib>=0.0.1->pandas-gbq) (1.3.1)\n",
      "Requirement already satisfied: grpcio<2.0dev,>=1.38.1 in /opt/conda/lib/python3.7/site-packages (from google-cloud-bigquery!=2.4.*,<4.0.0dev,>=1.27.2->pandas-gbq) (1.44.0)\n",
      "Requirement already satisfied: proto-plus>=1.10.0 in /opt/conda/lib/python3.7/site-packages (from google-cloud-bigquery!=2.4.*,<4.0.0dev,>=1.27.2->pandas-gbq) (1.20.3)\n",
      "Requirement already satisfied: google-resumable-media<3.0dev,>=0.6.0 in /opt/conda/lib/python3.7/site-packages (from google-cloud-bigquery!=2.4.*,<4.0.0dev,>=1.27.2->pandas-gbq) (2.1.0)\n",
      "Requirement already satisfied: google-cloud-core<3.0.0dev,>=1.4.1 in /opt/conda/lib/python3.7/site-packages (from google-cloud-bigquery!=2.4.*,<4.0.0dev,>=1.27.2->pandas-gbq) (2.2.2)\n",
      "Requirement already satisfied: python-dateutil<3.0dev,>=2.7.2 in /opt/conda/lib/python3.7/site-packages (from google-cloud-bigquery!=2.4.*,<4.0.0dev,>=1.27.2->pandas-gbq) (2.8.2)\n",
      "Requirement already satisfied: pytz>=2017.3 in /opt/conda/lib/python3.7/site-packages (from pandas>=0.24.2->pandas-gbq) (2021.3)\n",
      "Requirement already satisfied: grpcio-status<2.0dev,>=1.33.2 in /opt/conda/lib/python3.7/site-packages (from google-api-core!=2.0.*,!=2.1.*,!=2.2.*,!=2.3.0,<3.0.0dev,>=1.31.5->pandas-gbq) (1.44.0)\n",
      "Requirement already satisfied: google-crc32c<2.0dev,>=1.0 in /opt/conda/lib/python3.7/site-packages (from google-resumable-media<3.0dev,>=0.6.0->google-cloud-bigquery!=2.4.*,<4.0.0dev,>=1.27.2->pandas-gbq) (1.1.2)\n",
      "Requirement already satisfied: pyparsing!=3.0.5,>=2.0.2 in /opt/conda/lib/python3.7/site-packages (from packaging>=17.0->db-dtypes<2.0.0,>=0.3.1->pandas-gbq) (3.0.7)\n",
      "Requirement already satisfied: pyasn1<0.5.0,>=0.4.6 in /opt/conda/lib/python3.7/site-packages (from pyasn1-modules>=0.2.1->google-auth>=1.25.0->pandas-gbq) (0.4.8)\n",
      "Requirement already satisfied: urllib3<1.27,>=1.21.1 in /opt/conda/lib/python3.7/site-packages (from requests<3.0.0dev,>=2.18.0->google-api-core!=2.0.*,!=2.1.*,!=2.2.*,!=2.3.0,<3.0.0dev,>=1.31.5->pandas-gbq) (1.26.8)\n",
      "Requirement already satisfied: idna<4,>=2.5 in /opt/conda/lib/python3.7/site-packages (from requests<3.0.0dev,>=2.18.0->google-api-core!=2.0.*,!=2.1.*,!=2.2.*,!=2.3.0,<3.0.0dev,>=1.31.5->pandas-gbq) (3.3)\n",
      "Requirement already satisfied: charset-normalizer~=2.0.0 in /opt/conda/lib/python3.7/site-packages (from requests<3.0.0dev,>=2.18.0->google-api-core!=2.0.*,!=2.1.*,!=2.2.*,!=2.3.0,<3.0.0dev,>=1.31.5->pandas-gbq) (2.0.12)\n",
      "Requirement already satisfied: certifi>=2017.4.17 in /opt/conda/lib/python3.7/site-packages (from requests<3.0.0dev,>=2.18.0->google-api-core!=2.0.*,!=2.1.*,!=2.2.*,!=2.3.0,<3.0.0dev,>=1.31.5->pandas-gbq) (2021.10.8)\n",
      "Requirement already satisfied: oauthlib>=3.0.0 in /opt/conda/lib/python3.7/site-packages (from requests-oauthlib>=0.7.0->google-auth-oauthlib>=0.0.1->pandas-gbq) (3.2.0)\n",
      "Requirement already satisfied: cffi>=1.0.0 in /opt/conda/lib/python3.7/site-packages (from google-crc32c<2.0dev,>=1.0->google-resumable-media<3.0dev,>=0.6.0->google-cloud-bigquery!=2.4.*,<4.0.0dev,>=1.27.2->pandas-gbq) (1.15.0)\n",
      "Requirement already satisfied: pycparser in /opt/conda/lib/python3.7/site-packages (from cffi>=1.0.0->google-crc32c<2.0dev,>=1.0->google-resumable-media<3.0dev,>=0.6.0->google-cloud-bigquery!=2.4.*,<4.0.0dev,>=1.27.2->pandas-gbq) (2.21)\n",
      "Installing collected packages: pyarrow, db-dtypes, pydata-google-auth, pandas-gbq\n",
      "  Attempting uninstall: pyarrow\n",
      "    Found existing installation: pyarrow 7.0.0\n",
      "    Uninstalling pyarrow-7.0.0:\n",
      "      Successfully uninstalled pyarrow-7.0.0\n",
      "Successfully installed db-dtypes-0.3.1 pandas-gbq-0.17.3 pyarrow-6.0.1 pydata-google-auth-1.3.0\n"
     ]
    }
   ],
   "source": [
    "!pip install pandas-gbq"
   ]
  },
  {
   "cell_type": "markdown",
   "id": "5a835e87-d139-4c7a-9346-24fbac30fc02",
   "metadata": {},
   "source": [
    "**Step 1:** Import libraries"
   ]
  },
  {
   "cell_type": "code",
   "execution_count": 11,
   "id": "13e8e2c2-2390-4510-9ec4-2ece70082e83",
   "metadata": {},
   "outputs": [],
   "source": [
    "import tweepy\n",
    "import pandas as pd\n",
    "import yaml\n",
    "from google.cloud import bigquery"
   ]
  },
  {
   "cell_type": "markdown",
   "id": "5fc895fc-7429-4456-9f08-27eb5b0e7f8e",
   "metadata": {},
   "source": [
    "**Step 2:** Read config yaml and setup credentials"
   ]
  },
  {
   "cell_type": "code",
   "execution_count": 12,
   "id": "1b228a7f-8874-47c9-8efa-748a89da8401",
   "metadata": {},
   "outputs": [],
   "source": [
    "with open(\"src/config.yaml\", \"r\") as config:\n",
    "        config = yaml.safe_load(config)"
   ]
  },
  {
   "cell_type": "code",
   "execution_count": 17,
   "id": "16f61a2f-432c-427b-ad9b-82cc8b4a5090",
   "metadata": {},
   "outputs": [],
   "source": [
    "# Credentials\n",
    "consumer_key = config['consumer_key']\n",
    "consumer_secret =  config['consumer_secret']\n",
    "access_token =  config['access_token']\n",
    "access_token_secret =  config['access_token_secret']"
   ]
  },
  {
   "cell_type": "code",
   "execution_count": 3,
   "id": "d0b82089-7f94-4cc2-b435-756206e5ab73",
   "metadata": {},
   "outputs": [],
   "source": [
    "# Creating the authentication object\n",
    "auth = tweepy.OAuthHandler(consumer_key, consumer_secret)\n",
    "# Setting your access token and secret\n",
    "auth.set_access_token(access_token, access_token_secret)\n",
    "# Creating the API object while passing in auth information\n",
    "api = tweepy.API(auth) "
   ]
  },
  {
   "cell_type": "markdown",
   "id": "8740d989-4b13-4eb3-ad5c-638de3f769c8",
   "metadata": {},
   "source": [
    "**Step 3:** Extract and Transform"
   ]
  },
  {
   "cell_type": "code",
   "execution_count": 18,
   "id": "a723b77f-af5c-499a-afbb-0130a3d4e796",
   "metadata": {},
   "outputs": [],
   "source": [
    "user = []\n",
    "text = []\n",
    "followers = []\n",
    "location = []\n",
    "verified = []\n",
    "df = pd.DataFrame(columns=['user','text','followers','location','verified'])\n",
    "\n",
    "\n",
    "# Extract\n",
    "themes = ['travel','booking','hotel','trivago','airbnb','travel agency','travelling','vacation','instatravel','tourism','traveller','trip','journey','tour','tourist']\n",
    "\n",
    "for theme in themes:\n",
    "\t# The search term\n",
    "\tquery = '{} -filter:retweets'.format(theme)\n",
    "\t# Language code (follows ISO 639-1 standards)\n",
    "\tlanguage = \"en\"\n",
    "\t# Calling the api\n",
    "\tresults = api.search_tweets(q=query, lang=language, count=100)\n",
    "\t# Features\n",
    "\tfor tweet in results:\n",
    "\t\tuser.append(tweet.user.screen_name)\n",
    "\t\ttext.append(tweet.text)\n",
    "\t\tfollowers.append(tweet.user.followers_count)\n",
    "\t\tlocation.append(tweet.user.location)\n",
    "\t\tverified.append(tweet.user.verified)\n",
    "df['user'] = user\n",
    "df['text'] = text\n",
    "df['followers'] = followers\n",
    "df['location'] = location\n",
    "df['verified'] = verified"
   ]
  },
  {
   "cell_type": "code",
   "execution_count": 19,
   "id": "219a4ccb-b5bd-4c28-ad61-f47f7a28d318",
   "metadata": {},
   "outputs": [
    {
     "data": {
      "text/html": [
       "<div>\n",
       "<style scoped>\n",
       "    .dataframe tbody tr th:only-of-type {\n",
       "        vertical-align: middle;\n",
       "    }\n",
       "\n",
       "    .dataframe tbody tr th {\n",
       "        vertical-align: top;\n",
       "    }\n",
       "\n",
       "    .dataframe thead th {\n",
       "        text-align: right;\n",
       "    }\n",
       "</style>\n",
       "<table border=\"1\" class=\"dataframe\">\n",
       "  <thead>\n",
       "    <tr style=\"text-align: right;\">\n",
       "      <th></th>\n",
       "      <th>user</th>\n",
       "      <th>text</th>\n",
       "      <th>followers</th>\n",
       "      <th>location</th>\n",
       "      <th>verified</th>\n",
       "    </tr>\n",
       "  </thead>\n",
       "  <tbody>\n",
       "    <tr>\n",
       "      <th>0</th>\n",
       "      <td>socalmommablog</td>\n",
       "      <td>Free Subscription to DuJour Magazine!.\\n Sign ...</td>\n",
       "      <td>8069</td>\n",
       "      <td>California</td>\n",
       "      <td>False</td>\n",
       "    </tr>\n",
       "    <tr>\n",
       "      <th>1</th>\n",
       "      <td>Cali_Kaylee</td>\n",
       "      <td>why did I decide to do travel work when I like...</td>\n",
       "      <td>630</td>\n",
       "      <td></td>\n",
       "      <td>False</td>\n",
       "    </tr>\n",
       "    <tr>\n",
       "      <th>2</th>\n",
       "      <td>joyfulgirl1971</td>\n",
       "      <td>@kentuckygrandma @cranberryhorn @Booker4KY @La...</td>\n",
       "      <td>12</td>\n",
       "      <td>Los Angeles, CA</td>\n",
       "      <td>False</td>\n",
       "    </tr>\n",
       "    <tr>\n",
       "      <th>3</th>\n",
       "      <td>ArchibaldPug</td>\n",
       "      <td>@nicktolhurst From where they are expected to ...</td>\n",
       "      <td>1425</td>\n",
       "      <td>Rye, England</td>\n",
       "      <td>False</td>\n",
       "    </tr>\n",
       "    <tr>\n",
       "      <th>4</th>\n",
       "      <td>Getstuffed01010</td>\n",
       "      <td>@Jess06091913 @KeithWarren55 @SAHealth Do you ...</td>\n",
       "      <td>2</td>\n",
       "      <td></td>\n",
       "      <td>False</td>\n",
       "    </tr>\n",
       "    <tr>\n",
       "      <th>...</th>\n",
       "      <td>...</td>\n",
       "      <td>...</td>\n",
       "      <td>...</td>\n",
       "      <td>...</td>\n",
       "      <td>...</td>\n",
       "    </tr>\n",
       "    <tr>\n",
       "      <th>1495</th>\n",
       "      <td>bigpurk14</td>\n",
       "      <td>@FootyScran @SpursOfficial Who the fuck is wat...</td>\n",
       "      <td>562</td>\n",
       "      <td></td>\n",
       "      <td>False</td>\n",
       "    </tr>\n",
       "    <tr>\n",
       "      <th>1496</th>\n",
       "      <td>johnjones5089</td>\n",
       "      <td>@GarNob Who in their rite mind (unless you are...</td>\n",
       "      <td>24</td>\n",
       "      <td>Dublin, Ireland</td>\n",
       "      <td>False</td>\n",
       "    </tr>\n",
       "    <tr>\n",
       "      <th>1497</th>\n",
       "      <td>RuhulAm91543090</td>\n",
       "      <td>@NagaPotineni @VFSGlobal @vfsglobalcare @India...</td>\n",
       "      <td>3</td>\n",
       "      <td></td>\n",
       "      <td>False</td>\n",
       "    </tr>\n",
       "    <tr>\n",
       "      <th>1498</th>\n",
       "      <td>girl75219</td>\n",
       "      <td>@Kyiv And Americans will come and visit and sp...</td>\n",
       "      <td>1523</td>\n",
       "      <td>Dallas, TX</td>\n",
       "      <td>False</td>\n",
       "    </tr>\n",
       "    <tr>\n",
       "      <th>1499</th>\n",
       "      <td>abusehasnogende</td>\n",
       "      <td>\"The Tourist\" has just come on Amazon prime an...</td>\n",
       "      <td>630</td>\n",
       "      <td></td>\n",
       "      <td>False</td>\n",
       "    </tr>\n",
       "  </tbody>\n",
       "</table>\n",
       "<p>1500 rows × 5 columns</p>\n",
       "</div>"
      ],
      "text/plain": [
       "                 user                                               text  \\\n",
       "0      socalmommablog  Free Subscription to DuJour Magazine!.\\n Sign ...   \n",
       "1         Cali_Kaylee  why did I decide to do travel work when I like...   \n",
       "2      joyfulgirl1971  @kentuckygrandma @cranberryhorn @Booker4KY @La...   \n",
       "3        ArchibaldPug  @nicktolhurst From where they are expected to ...   \n",
       "4     Getstuffed01010  @Jess06091913 @KeithWarren55 @SAHealth Do you ...   \n",
       "...               ...                                                ...   \n",
       "1495        bigpurk14  @FootyScran @SpursOfficial Who the fuck is wat...   \n",
       "1496    johnjones5089  @GarNob Who in their rite mind (unless you are...   \n",
       "1497  RuhulAm91543090  @NagaPotineni @VFSGlobal @vfsglobalcare @India...   \n",
       "1498        girl75219  @Kyiv And Americans will come and visit and sp...   \n",
       "1499  abusehasnogende  \"The Tourist\" has just come on Amazon prime an...   \n",
       "\n",
       "      followers         location  verified  \n",
       "0          8069       California     False  \n",
       "1           630                      False  \n",
       "2            12  Los Angeles, CA     False  \n",
       "3          1425     Rye, England     False  \n",
       "4             2                      False  \n",
       "...         ...              ...       ...  \n",
       "1495        562                      False  \n",
       "1496         24  Dublin, Ireland     False  \n",
       "1497          3                      False  \n",
       "1498       1523       Dallas, TX     False  \n",
       "1499        630                      False  \n",
       "\n",
       "[1500 rows x 5 columns]"
      ]
     },
     "execution_count": 19,
     "metadata": {},
     "output_type": "execute_result"
    }
   ],
   "source": [
    "df"
   ]
  },
  {
   "cell_type": "markdown",
   "id": "647b1c40-5403-40cf-bc38-36aad1505c20",
   "metadata": {},
   "source": [
    "**Step 4:** Load"
   ]
  },
  {
   "cell_type": "code",
   "execution_count": 20,
   "id": "932174fe-cb6c-4b9d-bbab-3445a09f226f",
   "metadata": {},
   "outputs": [],
   "source": [
    "#Imports google cloud client library and initiates BQ service\n",
    "bigquery_client = bigquery.Client(project = config['project'])"
   ]
  },
  {
   "cell_type": "code",
   "execution_count": 10,
   "id": "8bbda350-a93e-4d87-8286-1e798763a7d4",
   "metadata": {},
   "outputs": [
    {
     "name": "stderr",
     "output_type": "stream",
     "text": [
      "100%|██████████| 1/1 [00:00<00:00, 10106.76it/s]\n"
     ]
    }
   ],
   "source": [
    "df[['user','text']].to_gbq(destination_table = 'tweets.text',project_id = config['project'],if_exists='replace')"
   ]
  },
  {
   "cell_type": "code",
   "execution_count": null,
   "id": "1d7d3517-f453-464d-9ce9-968ff9fb0085",
   "metadata": {},
   "outputs": [],
   "source": [
    "df.drop(columns='text').to_gbq(destination_table = 'tweets.users',project_id = config['project'],if_exists='replace)"
   ]
  }
 ],
 "metadata": {
  "environment": {
   "kernel": "python3",
   "name": "common-cpu.m90",
   "type": "gcloud",
   "uri": "gcr.io/deeplearning-platform-release/base-cpu:m90"
  },
  "kernelspec": {
   "display_name": "Python 3",
   "language": "python",
   "name": "python3"
  },
  "language_info": {
   "codemirror_mode": {
    "name": "ipython",
    "version": 3
   },
   "file_extension": ".py",
   "mimetype": "text/x-python",
   "name": "python",
   "nbconvert_exporter": "python",
   "pygments_lexer": "ipython3",
   "version": "3.7.12"
  }
 },
 "nbformat": 4,
 "nbformat_minor": 5
}
