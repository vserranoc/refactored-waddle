{
 "cells": [
  {
   "cell_type": "code",
   "execution_count": 1,
   "id": "be7166ff-58da-4772-8b1f-aa4d0f96dc84",
   "metadata": {},
   "outputs": [
    {
     "name": "stdout",
     "output_type": "stream",
     "text": [
      "/Users/jesusenriquemirandablanco/Documents/maestria/segundo/producto/refactored-waddle\n"
     ]
    }
   ],
   "source": [
    "cd .."
   ]
  },
  {
   "cell_type": "code",
   "execution_count": 2,
   "id": "68052c91-ca53-49a2-9ef6-6b49dc03a9d8",
   "metadata": {},
   "outputs": [
    {
     "name": "stderr",
     "output_type": "stream",
     "text": [
      "[nltk_data] Downloading package stopwords to\n",
      "[nltk_data]     /Users/jesusenriquemirandablanco/nltk_data...\n",
      "[nltk_data]   Package stopwords is already up-to-date!\n"
     ]
    }
   ],
   "source": [
    "import pandas as pd\n",
    "from src.clean_string import clean_function\n"
   ]
  },
  {
   "cell_type": "code",
   "execution_count": 3,
   "id": "03cba4e1-1bfb-4e55-8de2-5a479d46341d",
   "metadata": {},
   "outputs": [
    {
     "name": "stdout",
     "output_type": "stream",
     "text": [
      "README.md  \u001b[34mdata\u001b[m\u001b[m/      \u001b[34mnotebooks\u001b[m\u001b[m/ \u001b[34msrc\u001b[m\u001b[m/\n"
     ]
    }
   ],
   "source": [
    "ls "
   ]
  },
  {
   "cell_type": "code",
   "execution_count": 4,
   "id": "f90cb629-cb84-4a2a-9887-4606efe4fd86",
   "metadata": {},
   "outputs": [
    {
     "data": {
      "text/html": [
       "<div>\n",
       "<style scoped>\n",
       "    .dataframe tbody tr th:only-of-type {\n",
       "        vertical-align: middle;\n",
       "    }\n",
       "\n",
       "    .dataframe tbody tr th {\n",
       "        vertical-align: top;\n",
       "    }\n",
       "\n",
       "    .dataframe thead th {\n",
       "        text-align: right;\n",
       "    }\n",
       "</style>\n",
       "<table border=\"1\" class=\"dataframe\">\n",
       "  <thead>\n",
       "    <tr style=\"text-align: right;\">\n",
       "      <th></th>\n",
       "      <th>user</th>\n",
       "      <th>text</th>\n",
       "    </tr>\n",
       "  </thead>\n",
       "  <tbody>\n",
       "    <tr>\n",
       "      <th>0</th>\n",
       "      <td>TND</td>\n",
       "      <td>An Airbnb spokesperson says more than 61,000 n...</td>\n",
       "    </tr>\n",
       "    <tr>\n",
       "      <th>1</th>\n",
       "      <td>TND</td>\n",
       "      <td>An Airbnb spokesperson says more than 61,000 n...</td>\n",
       "    </tr>\n",
       "    <tr>\n",
       "      <th>2</th>\n",
       "      <td>LIRR</td>\n",
       "      <td>@islesofmets @UBSArena @NYIslanders Good morni...</td>\n",
       "    </tr>\n",
       "    <tr>\n",
       "      <th>3</th>\n",
       "      <td>xo4n</td>\n",
       "      <td>Featured Job of the day: software engineer API...</td>\n",
       "    </tr>\n",
       "    <tr>\n",
       "      <th>4</th>\n",
       "      <td>26OOs</td>\n",
       "      <td>The ashes like a trail as it disappeared into ...</td>\n",
       "    </tr>\n",
       "  </tbody>\n",
       "</table>\n",
       "</div>"
      ],
      "text/plain": [
       "    user                                               text\n",
       "0    TND  An Airbnb spokesperson says more than 61,000 n...\n",
       "1    TND  An Airbnb spokesperson says more than 61,000 n...\n",
       "2   LIRR  @islesofmets @UBSArena @NYIslanders Good morni...\n",
       "3   xo4n  Featured Job of the day: software engineer API...\n",
       "4  26OOs  The ashes like a trail as it disappeared into ..."
      ]
     },
     "execution_count": 4,
     "metadata": {},
     "output_type": "execute_result"
    }
   ],
   "source": [
    "df = pd.read_csv('./data/bquxjob_1c64361e_17f79910563.csv')\n",
    "df.head()"
   ]
  },
  {
   "cell_type": "code",
   "execution_count": 5,
   "id": "16e3a29c-f63b-42bf-9089-123426cc0761",
   "metadata": {},
   "outputs": [],
   "source": [
    "df['clean'] = df.text.apply(lambda x:clean_function(x))"
   ]
  },
  {
   "cell_type": "code",
   "execution_count": 6,
   "id": "b2e27aa9-d153-449f-a025-e05e95e96ac5",
   "metadata": {},
   "outputs": [
    {
     "data": {
      "text/html": [
       "<div>\n",
       "<style scoped>\n",
       "    .dataframe tbody tr th:only-of-type {\n",
       "        vertical-align: middle;\n",
       "    }\n",
       "\n",
       "    .dataframe tbody tr th {\n",
       "        vertical-align: top;\n",
       "    }\n",
       "\n",
       "    .dataframe thead th {\n",
       "        text-align: right;\n",
       "    }\n",
       "</style>\n",
       "<table border=\"1\" class=\"dataframe\">\n",
       "  <thead>\n",
       "    <tr style=\"text-align: right;\">\n",
       "      <th></th>\n",
       "      <th>user</th>\n",
       "      <th>text</th>\n",
       "      <th>clean</th>\n",
       "    </tr>\n",
       "  </thead>\n",
       "  <tbody>\n",
       "    <tr>\n",
       "      <th>0</th>\n",
       "      <td>TND</td>\n",
       "      <td>An Airbnb spokesperson says more than 61,000 n...</td>\n",
       "      <td>airbnb spokesperson say night book ukrain marc...</td>\n",
       "    </tr>\n",
       "    <tr>\n",
       "      <th>1</th>\n",
       "      <td>TND</td>\n",
       "      <td>An Airbnb spokesperson says more than 61,000 n...</td>\n",
       "      <td>airbnb spokesperson say night book ukrain marc...</td>\n",
       "    </tr>\n",
       "    <tr>\n",
       "      <th>2</th>\n",
       "      <td>LIRR</td>\n",
       "      <td>@islesofmets @UBSArena @NYIslanders Good morni...</td>\n",
       "      <td>islesofmet ubsarena nyisland good morn servic ...</td>\n",
       "    </tr>\n",
       "    <tr>\n",
       "      <th>3</th>\n",
       "      <td>xo4n</td>\n",
       "      <td>Featured Job of the day: software engineer API...</td>\n",
       "      <td>featur job day softwar engin api build develop...</td>\n",
       "    </tr>\n",
       "    <tr>\n",
       "      <th>4</th>\n",
       "      <td>26OOs</td>\n",
       "      <td>The ashes like a trail as it disappeared into ...</td>\n",
       "      <td>ash like trail disappear sky like distant jour...</td>\n",
       "    </tr>\n",
       "  </tbody>\n",
       "</table>\n",
       "</div>"
      ],
      "text/plain": [
       "    user                                               text  \\\n",
       "0    TND  An Airbnb spokesperson says more than 61,000 n...   \n",
       "1    TND  An Airbnb spokesperson says more than 61,000 n...   \n",
       "2   LIRR  @islesofmets @UBSArena @NYIslanders Good morni...   \n",
       "3   xo4n  Featured Job of the day: software engineer API...   \n",
       "4  26OOs  The ashes like a trail as it disappeared into ...   \n",
       "\n",
       "                                               clean  \n",
       "0  airbnb spokesperson say night book ukrain marc...  \n",
       "1  airbnb spokesperson say night book ukrain marc...  \n",
       "2  islesofmet ubsarena nyisland good morn servic ...  \n",
       "3  featur job day softwar engin api build develop...  \n",
       "4  ash like trail disappear sky like distant jour...  "
      ]
     },
     "execution_count": 6,
     "metadata": {},
     "output_type": "execute_result"
    }
   ],
   "source": [
    "df.head()"
   ]
  },
  {
   "cell_type": "code",
   "execution_count": 7,
   "id": "fad5c682-a927-4dfa-81da-192aeaa13fc7",
   "metadata": {},
   "outputs": [
    {
     "data": {
      "text/plain": [
       "'An Airbnb spokesperson says more than 61,000 nights were booked in Ukraine on March 2 and 3 alone. This amounted to… https://t.co/WkzEUk7gwj'"
      ]
     },
     "execution_count": 7,
     "metadata": {},
     "output_type": "execute_result"
    }
   ],
   "source": [
    "df.iloc[0,1]"
   ]
  },
  {
   "cell_type": "code",
   "execution_count": 8,
   "id": "bbd56ebf-b7a7-48a7-9153-86b6dc56ed33",
   "metadata": {},
   "outputs": [
    {
     "data": {
      "text/plain": [
       "'airbnb spokesperson say night book ukrain march alon amount http co wkzeuk gwj'"
      ]
     },
     "execution_count": 8,
     "metadata": {},
     "output_type": "execute_result"
    }
   ],
   "source": [
    "df.iloc[0,2]"
   ]
  },
  {
   "cell_type": "code",
   "execution_count": null,
   "id": "813e27fe-55c8-425c-870a-b5375f926a5f",
   "metadata": {},
   "outputs": [],
   "source": []
  }
 ],
 "metadata": {
  "kernelspec": {
   "display_name": "general",
   "language": "python",
   "name": "general"
  },
  "language_info": {
   "codemirror_mode": {
    "name": "ipython",
    "version": 3
   },
   "file_extension": ".py",
   "mimetype": "text/x-python",
   "name": "python",
   "nbconvert_exporter": "python",
   "pygments_lexer": "ipython3",
   "version": "3.9.5"
  }
 },
 "nbformat": 4,
 "nbformat_minor": 5
}
