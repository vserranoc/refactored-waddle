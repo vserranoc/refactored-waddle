{
 "cells": [
  {
   "cell_type": "code",
   "execution_count": 1,
   "id": "8cee742b-2351-4eeb-8bd3-967287ab8165",
   "metadata": {},
   "outputs": [
    {
     "name": "stdout",
     "output_type": "stream",
     "text": [
      "/Users/jesusenriquemirandablanco/Documents/maestria/segundo/producto/refactored-waddle\n"
     ]
    }
   ],
   "source": [
    "cd .."
   ]
  },
  {
   "cell_type": "markdown",
   "id": "e00403d6-182e-473e-9d12-a078effa4f61",
   "metadata": {},
   "source": [
    "# Setup"
   ]
  },
  {
   "cell_type": "code",
   "execution_count": 2,
   "id": "e0954f2e-b609-4823-9682-d4bb66d7e5c6",
   "metadata": {},
   "outputs": [],
   "source": [
    "from src.AutoML import run_autoML\n",
    "\n",
    "import pandas as pd"
   ]
  },
  {
   "cell_type": "code",
   "execution_count": 3,
   "id": "26da4cd2-ac5b-4b72-a092-5b7f3ca0f56c",
   "metadata": {},
   "outputs": [],
   "source": [
    "%load_ext autoreload\n",
    "%autoreload 2"
   ]
  },
  {
   "cell_type": "markdown",
   "id": "d0121bad-e3d4-4d87-a3b9-bc7c9122c0e1",
   "metadata": {},
   "source": [
    "# Data"
   ]
  },
  {
   "cell_type": "code",
   "execution_count": 4,
   "id": "37e67cf9-a4c0-4be8-83e8-de648eb5f4db",
   "metadata": {},
   "outputs": [
    {
     "name": "stdout",
     "output_type": "stream",
     "text": [
      "(6404, 4)\n"
     ]
    }
   ],
   "source": [
    "south = pd.read_excel('./data/Tweets_etiqueta.xlsx', sheet_name='SouthwestAir')\n",
    "south['airline'] = 'SouthwestAir'\n",
    "\n",
    "jetblue = pd.read_excel('./data/Tweets_etiqueta.xlsx', sheet_name='JetBlue')\n",
    "jetblue['airline'] = 'JetBlue'\n",
    "\n",
    "df = pd.concat(    \n",
    "    [\n",
    "        south,\n",
    "        jetblue\n",
    "    ]\n",
    ")\n",
    "\n",
    "print(df.shape)\n",
    "\n",
    "df = df.loc[df.Sentimiento.isin([1,-1]), ['Texto', 'Sentimiento','airline']]\n",
    "df = df.drop_duplicates(subset='Texto')\n",
    "df.columns = [x.lower() for x in df.columns]"
   ]
  },
  {
   "cell_type": "markdown",
   "id": "e5ce996f-4c2f-405f-b83e-7e4fedd86c04",
   "metadata": {},
   "source": [
    "# AutoML"
   ]
  },
  {
   "cell_type": "code",
   "execution_count": 6,
   "id": "7719c09d-3f00-4e77-9652-1aeacd0a1a7a",
   "metadata": {},
   "outputs": [
    {
     "name": "stdout",
     "output_type": "stream",
     "text": [
      "{'model': MultinomialNB(), 'model_name': 'Naive Bayes', 'preprocessing': 'CountVec'}\n",
      "{'model': MultinomialNB(), 'model_name': 'Naive Bayes', 'preprocessing': 'tfidf'}\n",
      "{'model': LogisticRegression(max_iter=1000), 'model_name': 'Logistic Regression', 'preprocessing': 'CountVec'}\n",
      "{'model': LogisticRegression(max_iter=1000), 'model_name': 'Logistic Regression', 'preprocessing': 'tfidf'}\n"
     ]
    }
   ],
   "source": [
    "aux_results = run_autoML(df)"
   ]
  },
  {
   "cell_type": "code",
   "execution_count": 7,
   "id": "9185631e-7c85-40c9-b3fc-399f7814b289",
   "metadata": {},
   "outputs": [
    {
     "data": {
      "text/plain": [
       "{'trained_model': {'object': LogisticRegression(max_iter=1000),\n",
       "  'name': 'Logistic Regression'},\n",
       " 'preprocessing': {'object': CountVectorizer(token_pattern=None,\n",
       "                  tokenizer=<function word_tokenize at 0x7fcde8cb2280>),\n",
       "  'name': 'CountVec'},\n",
       " 'performance': {'final': recall      0.722857\n",
       "  accuracy    0.856030\n",
       "  f1_score    0.722857\n",
       "  auc         0.892048\n",
       "  brier       0.103271\n",
       "  Name: (Logistic Regression, CountVec), dtype: float64,\n",
       "  'all':                                      recall  accuracy  f1_score       auc  \\\n",
       "  model               preprocessing                                           \n",
       "  Logistic Regression CountVec       0.722857  0.856030  0.722857  0.892048   \n",
       "  Naive Bayes         CountVec       0.705714  0.847124  0.705714  0.886079   \n",
       "  Logistic Regression tfidf          0.708571  0.848609  0.708571  0.895038   \n",
       "  Naive Bayes         tfidf          0.637143  0.811503  0.637143  0.852112   \n",
       "  \n",
       "                                        brier  \n",
       "  model               preprocessing            \n",
       "  Logistic Regression CountVec       0.103271  \n",
       "  Naive Bayes         CountVec       0.125911  \n",
       "  Logistic Regression tfidf          0.139017  \n",
       "  Naive Bayes         tfidf          0.189785  }}"
      ]
     },
     "execution_count": 7,
     "metadata": {},
     "output_type": "execute_result"
    }
   ],
   "source": [
    "aux_results"
   ]
  },
  {
   "cell_type": "code",
   "execution_count": 8,
   "id": "418cbd77-36b1-466f-8c55-77965bf634d3",
   "metadata": {},
   "outputs": [
    {
     "data": {
      "text/plain": [
       "recall      0.722857\n",
       "accuracy    0.856030\n",
       "f1_score    0.722857\n",
       "auc         0.892048\n",
       "brier       0.103271\n",
       "Name: (Logistic Regression, CountVec), dtype: float64"
      ]
     },
     "execution_count": 8,
     "metadata": {},
     "output_type": "execute_result"
    }
   ],
   "source": [
    "aux_results['performance']['final']"
   ]
  },
  {
   "cell_type": "code",
   "execution_count": 9,
   "id": "2220fc5b-7b68-42d8-9795-0967888ccde2",
   "metadata": {},
   "outputs": [
    {
     "data": {
      "text/html": [
       "<div>\n",
       "<style scoped>\n",
       "    .dataframe tbody tr th:only-of-type {\n",
       "        vertical-align: middle;\n",
       "    }\n",
       "\n",
       "    .dataframe tbody tr th {\n",
       "        vertical-align: top;\n",
       "    }\n",
       "\n",
       "    .dataframe thead th {\n",
       "        text-align: right;\n",
       "    }\n",
       "</style>\n",
       "<table border=\"1\" class=\"dataframe\">\n",
       "  <thead>\n",
       "    <tr style=\"text-align: right;\">\n",
       "      <th></th>\n",
       "      <th></th>\n",
       "      <th>recall</th>\n",
       "      <th>accuracy</th>\n",
       "      <th>f1_score</th>\n",
       "      <th>auc</th>\n",
       "      <th>brier</th>\n",
       "    </tr>\n",
       "    <tr>\n",
       "      <th>model</th>\n",
       "      <th>preprocessing</th>\n",
       "      <th></th>\n",
       "      <th></th>\n",
       "      <th></th>\n",
       "      <th></th>\n",
       "      <th></th>\n",
       "    </tr>\n",
       "  </thead>\n",
       "  <tbody>\n",
       "    <tr>\n",
       "      <th>Logistic Regression</th>\n",
       "      <th>CountVec</th>\n",
       "      <td>0.722857</td>\n",
       "      <td>0.856030</td>\n",
       "      <td>0.722857</td>\n",
       "      <td>0.892048</td>\n",
       "      <td>0.103271</td>\n",
       "    </tr>\n",
       "    <tr>\n",
       "      <th>Naive Bayes</th>\n",
       "      <th>CountVec</th>\n",
       "      <td>0.705714</td>\n",
       "      <td>0.847124</td>\n",
       "      <td>0.705714</td>\n",
       "      <td>0.886079</td>\n",
       "      <td>0.125911</td>\n",
       "    </tr>\n",
       "    <tr>\n",
       "      <th>Logistic Regression</th>\n",
       "      <th>tfidf</th>\n",
       "      <td>0.708571</td>\n",
       "      <td>0.848609</td>\n",
       "      <td>0.708571</td>\n",
       "      <td>0.895038</td>\n",
       "      <td>0.139017</td>\n",
       "    </tr>\n",
       "    <tr>\n",
       "      <th>Naive Bayes</th>\n",
       "      <th>tfidf</th>\n",
       "      <td>0.637143</td>\n",
       "      <td>0.811503</td>\n",
       "      <td>0.637143</td>\n",
       "      <td>0.852112</td>\n",
       "      <td>0.189785</td>\n",
       "    </tr>\n",
       "  </tbody>\n",
       "</table>\n",
       "</div>"
      ],
      "text/plain": [
       "                                     recall  accuracy  f1_score       auc  \\\n",
       "model               preprocessing                                           \n",
       "Logistic Regression CountVec       0.722857  0.856030  0.722857  0.892048   \n",
       "Naive Bayes         CountVec       0.705714  0.847124  0.705714  0.886079   \n",
       "Logistic Regression tfidf          0.708571  0.848609  0.708571  0.895038   \n",
       "Naive Bayes         tfidf          0.637143  0.811503  0.637143  0.852112   \n",
       "\n",
       "                                      brier  \n",
       "model               preprocessing            \n",
       "Logistic Regression CountVec       0.103271  \n",
       "Naive Bayes         CountVec       0.125911  \n",
       "Logistic Regression tfidf          0.139017  \n",
       "Naive Bayes         tfidf          0.189785  "
      ]
     },
     "execution_count": 9,
     "metadata": {},
     "output_type": "execute_result"
    }
   ],
   "source": [
    "aux_results['performance']['all']"
   ]
  },
  {
   "cell_type": "code",
   "execution_count": null,
   "id": "694dfee2-b565-4b75-9922-e6709ce56f74",
   "metadata": {},
   "outputs": [],
   "source": []
  }
 ],
 "metadata": {
  "kernelspec": {
   "display_name": "general",
   "language": "python",
   "name": "general"
  },
  "language_info": {
   "codemirror_mode": {
    "name": "ipython",
    "version": 3
   },
   "file_extension": ".py",
   "mimetype": "text/x-python",
   "name": "python",
   "nbconvert_exporter": "python",
   "pygments_lexer": "ipython3",
   "version": "3.9.5"
  }
 },
 "nbformat": 4,
 "nbformat_minor": 5
}
