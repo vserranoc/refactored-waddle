{
 "cells": [
  {
   "cell_type": "code",
   "execution_count": 3,
   "id": "8cee742b-2351-4eeb-8bd3-967287ab8165",
   "metadata": {},
   "outputs": [
    {
     "name": "stdout",
     "output_type": "stream",
     "text": [
      "/Users/jesusenriquemirandablanco/Documents/maestria/segundo/producto/refactored-waddle\n"
     ]
    }
   ],
   "source": [
    "cd .."
   ]
  },
  {
   "cell_type": "markdown",
   "id": "e00403d6-182e-473e-9d12-a078effa4f61",
   "metadata": {},
   "source": [
    "# Setup"
   ]
  },
  {
   "cell_type": "code",
   "execution_count": 4,
   "id": "e0954f2e-b609-4823-9682-d4bb66d7e5c6",
   "metadata": {},
   "outputs": [],
   "source": [
    "from src.scoring import predict_sentiment"
   ]
  },
  {
   "cell_type": "code",
   "execution_count": 5,
   "id": "26da4cd2-ac5b-4b72-a092-5b7f3ca0f56c",
   "metadata": {},
   "outputs": [
    {
     "name": "stdout",
     "output_type": "stream",
     "text": [
      "The autoreload extension is already loaded. To reload it, use:\n",
      "  %reload_ext autoreload\n"
     ]
    }
   ],
   "source": [
    "%load_ext autoreload\n",
    "%autoreload 2"
   ]
  },
  {
   "cell_type": "markdown",
   "id": "e5ce996f-4c2f-405f-b83e-7e4fedd86c04",
   "metadata": {},
   "source": [
    "# Scoring"
   ]
  },
  {
   "cell_type": "markdown",
   "id": "4846845a-67ee-4c0e-9d88-ad0825663ceb",
   "metadata": {},
   "source": [
    "## Negative examples"
   ]
  },
  {
   "cell_type": "code",
   "execution_count": 7,
   "id": "88199f63-2182-4a8c-b8de-4460a3934ea4",
   "metadata": {},
   "outputs": [
    {
     "name": "stdout",
     "output_type": "stream",
     "text": [
      "['service was really bad i would never buy a ticket with them again angry_face']\n"
     ]
    },
    {
     "data": {
      "text/plain": [
       "'Probability of being a positive sentiment: 0.0426414338924546'"
      ]
     },
     "execution_count": 7,
     "metadata": {},
     "output_type": "execute_result"
    }
   ],
   "source": [
    "predict_sentiment('@airwest service was really bad. I would never buy a ticket with them again. #Badservice 😠')"
   ]
  },
  {
   "cell_type": "code",
   "execution_count": 9,
   "id": "9a6df61c-3c53-4e8c-b75a-9a118ea2e6e6",
   "metadata": {},
   "outputs": [
    {
     "name": "stdout",
     "output_type": "stream",
     "text": [
      "['i’ve booked a ticket & your system charged me yet you’re suspended to fly to that destination by law you should have a disclaimer that’s a scam & i’m requesting a refund plus damages']\n"
     ]
    },
    {
     "data": {
      "text/plain": [
       "'Probability of being a positive sentiment: 0.06628064807323782'"
      ]
     },
     "execution_count": 9,
     "metadata": {},
     "output_type": "execute_result"
    }
   ],
   "source": [
    "predict_sentiment(\n",
    "    ''' \n",
    "    I’ve booked a ticket & your system charged me yet you’re suspended to fly to that destination by \n",
    "    law you should have a disclaimer. That’s a scam & I’m requesting a refund plus damages  #worstairlines\n",
    "    '''\n",
    ")"
   ]
  },
  {
   "cell_type": "code",
   "execution_count": 10,
   "id": "02258a0e-d0c6-4f56-91b6-42830326831f",
   "metadata": {},
   "outputs": [
    {
     "name": "stdout",
     "output_type": "stream",
     "text": [
      "['no one including kross are too bad as you hopefully if can attend my requirment']\n"
     ]
    },
    {
     "data": {
      "text/plain": [
       "'Probability of being a positive sentiment: 0.025627461338536914'"
      ]
     },
     "execution_count": 10,
     "metadata": {},
     "output_type": "execute_result"
    }
   ],
   "source": [
    "predict_sentiment(\n",
    "    '''\n",
    "    no one including kross are too bad as you @aeromexico hopefully if can attend my requirment #BadService\n",
    "    '''\n",
    ")"
   ]
  },
  {
   "cell_type": "markdown",
   "id": "5dbcef07-a903-4998-8c61-24bbe33eab32",
   "metadata": {},
   "source": [
    "## Positive examples"
   ]
  },
  {
   "cell_type": "code",
   "execution_count": 11,
   "id": "8f27ebca-918b-4dbe-a16f-ecf8b09ccd79",
   "metadata": {},
   "outputs": [
    {
     "name": "stdout",
     "output_type": "stream",
     "text": [
      "['service was really good i really recomend the airline smiling_face_with_hearts']\n"
     ]
    },
    {
     "data": {
      "text/plain": [
       "'Probability of being a positive sentiment: 0.8875195481486858'"
      ]
     },
     "execution_count": 11,
     "metadata": {},
     "output_type": "execute_result"
    }
   ],
   "source": [
    "predict_sentiment(\n",
    "    '''\n",
    "    @airwest service was really good. I really recomend the airline 🥰\n",
    "    '''\n",
    ")"
   ]
  },
  {
   "cell_type": "code",
   "execution_count": 12,
   "id": "6023a0bb-fd7f-4119-af7a-97a29518cd04",
   "metadata": {},
   "outputs": [
    {
     "name": "stdout",
     "output_type": "stream",
     "text": [
      "['i like that airline good service can’t wait to be back on the new istanbul airport airplane️']\n"
     ]
    },
    {
     "data": {
      "text/plain": [
       "'Probability of being a positive sentiment: 0.7838381955192897'"
      ]
     },
     "execution_count": 12,
     "metadata": {},
     "output_type": "execute_result"
    }
   ],
   "source": [
    "predict_sentiment(\n",
    "    '''\n",
    "    I like that airline , good service, can’t wait to be back on the new Istanbul Airport  ✈️\n",
    "    '''\n",
    ")"
   ]
  },
  {
   "cell_type": "code",
   "execution_count": 13,
   "id": "5abdbf1a-0935-44b5-8a2e-f609eac0fd01",
   "metadata": {},
   "outputs": [
    {
     "name": "stdout",
     "output_type": "stream",
     "text": [
      "['thank you cancun it was a pleasure sun_with_faceand thak you to for the support']\n"
     ]
    },
    {
     "data": {
      "text/plain": [
       "'Probability of being a positive sentiment: 0.9134993710052112'"
      ]
     },
     "execution_count": 13,
     "metadata": {},
     "output_type": "execute_result"
    }
   ],
   "source": [
    "predict_sentiment(\n",
    "    '''\n",
    "    Thank you Cancun, it was a pleasure 🌞and thak you to @aeromexico for the support\n",
    "    '''\n",
    ")"
   ]
  },
  {
   "cell_type": "code",
   "execution_count": null,
   "id": "027b7c0f-e7e2-49f5-9ca8-c6c1d73c99df",
   "metadata": {},
   "outputs": [],
   "source": []
  }
 ],
 "metadata": {
  "kernelspec": {
   "display_name": "general",
   "language": "python",
   "name": "general"
  },
  "language_info": {
   "codemirror_mode": {
    "name": "ipython",
    "version": 3
   },
   "file_extension": ".py",
   "mimetype": "text/x-python",
   "name": "python",
   "nbconvert_exporter": "python",
   "pygments_lexer": "ipython3",
   "version": "3.9.5"
  }
 },
 "nbformat": 4,
 "nbformat_minor": 5
}
