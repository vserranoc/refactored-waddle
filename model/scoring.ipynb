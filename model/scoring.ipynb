{
 "cells": [
  {
   "cell_type": "code",
   "execution_count": 1,
   "id": "8cee742b-2351-4eeb-8bd3-967287ab8165",
   "metadata": {},
   "outputs": [
    {
     "name": "stdout",
     "output_type": "stream",
     "text": [
      "/Users/jesusenriquemirandablanco/Documents/maestria/segundo/producto/refactored-waddle\n"
     ]
    }
   ],
   "source": [
    "cd .."
   ]
  },
  {
   "cell_type": "code",
   "execution_count": 2,
   "id": "84389b4e-a248-48a3-a18d-1f6b33991f97",
   "metadata": {},
   "outputs": [
    {
     "name": "stdout",
     "output_type": "stream",
     "text": [
      "AutoML.py        \u001b[34m__pycache__\u001b[m\u001b[m/     etl.py           scoring.py\n",
      "README.md        \u001b[34martifacts\u001b[m\u001b[m/       etl_aux.ipynb\n",
      "__init__.py      clean_string.py  modelling.py\n"
     ]
    }
   ],
   "source": [
    "ls src"
   ]
  },
  {
   "cell_type": "markdown",
   "id": "e00403d6-182e-473e-9d12-a078effa4f61",
   "metadata": {},
   "source": [
    "# Setup"
   ]
  },
  {
   "cell_type": "code",
   "execution_count": 8,
   "id": "e0954f2e-b609-4823-9682-d4bb66d7e5c6",
   "metadata": {},
   "outputs": [],
   "source": [
    "import pandas as pd\n",
    "from src.scoring import predict_sentiment, proof_sentiment_predicted"
   ]
  },
  {
   "cell_type": "code",
   "execution_count": 4,
   "id": "26da4cd2-ac5b-4b72-a092-5b7f3ca0f56c",
   "metadata": {},
   "outputs": [],
   "source": [
    "%load_ext autoreload\n",
    "%autoreload 2"
   ]
  },
  {
   "cell_type": "markdown",
   "id": "edb2c679-a506-4bb4-b514-5f29f6b772c1",
   "metadata": {},
   "source": [
    "# Data"
   ]
  },
  {
   "cell_type": "code",
   "execution_count": 7,
   "id": "df3333d4-b378-4e17-89f8-9b615f00c0e9",
   "metadata": {},
   "outputs": [
    {
     "data": {
      "text/html": [
       "<div>\n",
       "<style scoped>\n",
       "    .dataframe tbody tr th:only-of-type {\n",
       "        vertical-align: middle;\n",
       "    }\n",
       "\n",
       "    .dataframe tbody tr th {\n",
       "        vertical-align: top;\n",
       "    }\n",
       "\n",
       "    .dataframe thead th {\n",
       "        text-align: right;\n",
       "    }\n",
       "</style>\n",
       "<table border=\"1\" class=\"dataframe\">\n",
       "  <thead>\n",
       "    <tr style=\"text-align: right;\">\n",
       "      <th></th>\n",
       "      <th>texto</th>\n",
       "      <th>sentimiento</th>\n",
       "      <th>airline</th>\n",
       "    </tr>\n",
       "  </thead>\n",
       "  <tbody>\n",
       "    <tr>\n",
       "      <th>0</th>\n",
       "      <td>@SouthwestAir I ❤️ SWA</td>\n",
       "      <td>1.0</td>\n",
       "      <td>SouthwestAir</td>\n",
       "    </tr>\n",
       "    <tr>\n",
       "      <th>1</th>\n",
       "      <td>@SouthwestAir has ripped me off by delaying my...</td>\n",
       "      <td>-1.0</td>\n",
       "      <td>SouthwestAir</td>\n",
       "    </tr>\n",
       "    <tr>\n",
       "      <th>2</th>\n",
       "      <td>@SouthwestAir I checked two bags and still had...</td>\n",
       "      <td>1.0</td>\n",
       "      <td>SouthwestAir</td>\n",
       "    </tr>\n",
       "    <tr>\n",
       "      <th>3</th>\n",
       "      <td>@SouthwestAir Just looked at flights to Seattl...</td>\n",
       "      <td>1.0</td>\n",
       "      <td>SouthwestAir</td>\n",
       "    </tr>\n",
       "    <tr>\n",
       "      <th>4</th>\n",
       "      <td>@Mike__Green @SouthwestAir And any last shred ...</td>\n",
       "      <td>-1.0</td>\n",
       "      <td>SouthwestAir</td>\n",
       "    </tr>\n",
       "  </tbody>\n",
       "</table>\n",
       "</div>"
      ],
      "text/plain": [
       "                                               texto  sentimiento  \\\n",
       "0                             @SouthwestAir I ❤️ SWA          1.0   \n",
       "1  @SouthwestAir has ripped me off by delaying my...         -1.0   \n",
       "2  @SouthwestAir I checked two bags and still had...          1.0   \n",
       "3  @SouthwestAir Just looked at flights to Seattl...          1.0   \n",
       "4  @Mike__Green @SouthwestAir And any last shred ...         -1.0   \n",
       "\n",
       "        airline  \n",
       "0  SouthwestAir  \n",
       "1  SouthwestAir  \n",
       "2  SouthwestAir  \n",
       "3  SouthwestAir  \n",
       "4  SouthwestAir  "
      ]
     },
     "execution_count": 7,
     "metadata": {},
     "output_type": "execute_result"
    }
   ],
   "source": [
    "df = pd.read_csv('./data/trainset_v1.csv')\n",
    "df.head()"
   ]
  },
  {
   "cell_type": "code",
   "execution_count": 21,
   "id": "7c6043d3-7dfd-4648-88df-23b6df38f9b7",
   "metadata": {},
   "outputs": [
    {
     "data": {
      "text/html": [
       "<div>\n",
       "<style scoped>\n",
       "    .dataframe tbody tr th:only-of-type {\n",
       "        vertical-align: middle;\n",
       "    }\n",
       "\n",
       "    .dataframe tbody tr th {\n",
       "        vertical-align: top;\n",
       "    }\n",
       "\n",
       "    .dataframe thead th {\n",
       "        text-align: right;\n",
       "    }\n",
       "</style>\n",
       "<table border=\"1\" class=\"dataframe\">\n",
       "  <thead>\n",
       "    <tr style=\"text-align: right;\">\n",
       "      <th></th>\n",
       "      <th>texto</th>\n",
       "      <th>sentimiento</th>\n",
       "      <th>airline</th>\n",
       "    </tr>\n",
       "  </thead>\n",
       "  <tbody>\n",
       "    <tr>\n",
       "      <th>0</th>\n",
       "      <td>@SouthwestAir I ❤️ SWA</td>\n",
       "      <td>1.0</td>\n",
       "      <td>SouthwestAir</td>\n",
       "    </tr>\n",
       "    <tr>\n",
       "      <th>1</th>\n",
       "      <td>@SouthwestAir has ripped me off by delaying my...</td>\n",
       "      <td>-1.0</td>\n",
       "      <td>SouthwestAir</td>\n",
       "    </tr>\n",
       "    <tr>\n",
       "      <th>2</th>\n",
       "      <td>@SouthwestAir I checked two bags and still had...</td>\n",
       "      <td>1.0</td>\n",
       "      <td>SouthwestAir</td>\n",
       "    </tr>\n",
       "    <tr>\n",
       "      <th>3</th>\n",
       "      <td>@SouthwestAir Just looked at flights to Seattl...</td>\n",
       "      <td>1.0</td>\n",
       "      <td>SouthwestAir</td>\n",
       "    </tr>\n",
       "    <tr>\n",
       "      <th>4</th>\n",
       "      <td>@Mike__Green @SouthwestAir And any last shred ...</td>\n",
       "      <td>-1.0</td>\n",
       "      <td>SouthwestAir</td>\n",
       "    </tr>\n",
       "  </tbody>\n",
       "</table>\n",
       "</div>"
      ],
      "text/plain": [
       "                                               texto  sentimiento  \\\n",
       "0                             @SouthwestAir I ❤️ SWA          1.0   \n",
       "1  @SouthwestAir has ripped me off by delaying my...         -1.0   \n",
       "2  @SouthwestAir I checked two bags and still had...          1.0   \n",
       "3  @SouthwestAir Just looked at flights to Seattl...          1.0   \n",
       "4  @Mike__Green @SouthwestAir And any last shred ...         -1.0   \n",
       "\n",
       "        airline  \n",
       "0  SouthwestAir  \n",
       "1  SouthwestAir  \n",
       "2  SouthwestAir  \n",
       "3  SouthwestAir  \n",
       "4  SouthwestAir  "
      ]
     },
     "execution_count": 21,
     "metadata": {},
     "output_type": "execute_result"
    }
   ],
   "source": [
    "df.head()"
   ]
  },
  {
   "cell_type": "markdown",
   "id": "e5ce996f-4c2f-405f-b83e-7e4fedd86c04",
   "metadata": {},
   "source": [
    "# Scoring"
   ]
  },
  {
   "cell_type": "code",
   "execution_count": 24,
   "id": "97549a6c-fb19-452b-9aa3-a5b68db1ddd4",
   "metadata": {},
   "outputs": [
    {
     "data": {
      "text/plain": [
       "0       0.739442\n",
       "1       0.014344\n",
       "2       0.517397\n",
       "3       0.844947\n",
       "4       0.119655\n",
       "          ...   \n",
       "2690    0.199232\n",
       "2691    0.841162\n",
       "2692    0.200527\n",
       "2693    0.069078\n",
       "2694    0.016853\n",
       "Name: texto, Length: 2695, dtype: float64"
      ]
     },
     "execution_count": 24,
     "metadata": {},
     "output_type": "execute_result"
    }
   ],
   "source": [
    "df.texto.apply(lambda x: predict_sentiment(x))"
   ]
  },
  {
   "cell_type": "markdown",
   "id": "a001d5ac-6af2-4d68-96c4-4d92afb12dd7",
   "metadata": {},
   "source": [
    "## Synthetic tweets "
   ]
  },
  {
   "cell_type": "markdown",
   "id": "4846845a-67ee-4c0e-9d88-ad0825663ceb",
   "metadata": {},
   "source": [
    "### Negative examples"
   ]
  },
  {
   "cell_type": "code",
   "execution_count": 12,
   "id": "88199f63-2182-4a8c-b8de-4460a3934ea4",
   "metadata": {},
   "outputs": [
    {
     "name": "stdout",
     "output_type": "stream",
     "text": [
      "['service was really bad i would never buy a ticket with them again angry_face']\n"
     ]
    },
    {
     "data": {
      "text/plain": [
       "'Probability of being a positive sentiment: 0.042641433892449745'"
      ]
     },
     "execution_count": 12,
     "metadata": {},
     "output_type": "execute_result"
    }
   ],
   "source": [
    "proof_sentiment_predicted('@airwest service was really bad. I would never buy a ticket with them again. #Badservice 😠')"
   ]
  },
  {
   "cell_type": "code",
   "execution_count": 13,
   "id": "9a6df61c-3c53-4e8c-b75a-9a118ea2e6e6",
   "metadata": {},
   "outputs": [
    {
     "name": "stdout",
     "output_type": "stream",
     "text": [
      "['i’ve booked a ticket & your system charged me yet you’re suspended to fly to that destination by law you should have a disclaimer that’s a scam & i’m requesting a refund plus damages']\n"
     ]
    },
    {
     "data": {
      "text/plain": [
       "'Probability of being a positive sentiment: 0.06628064807307116'"
      ]
     },
     "execution_count": 13,
     "metadata": {},
     "output_type": "execute_result"
    }
   ],
   "source": [
    "proof_sentiment_predicted(\n",
    "    ''' \n",
    "    I’ve booked a ticket & your system charged me yet you’re suspended to fly to that destination by \n",
    "    law you should have a disclaimer. That’s a scam & I’m requesting a refund plus damages  #worstairlines\n",
    "    '''\n",
    ")"
   ]
  },
  {
   "cell_type": "code",
   "execution_count": 14,
   "id": "02258a0e-d0c6-4f56-91b6-42830326831f",
   "metadata": {},
   "outputs": [
    {
     "name": "stdout",
     "output_type": "stream",
     "text": [
      "['no one including kross are too bad as you hopefully if can attend my requirment']\n"
     ]
    },
    {
     "data": {
      "text/plain": [
       "'Probability of being a positive sentiment: 0.025627461338498053'"
      ]
     },
     "execution_count": 14,
     "metadata": {},
     "output_type": "execute_result"
    }
   ],
   "source": [
    "proof_sentiment_predicted(\n",
    "    '''\n",
    "    no one including kross are too bad as you @aeromexico hopefully if can attend my requirment #BadService\n",
    "    '''\n",
    ")"
   ]
  },
  {
   "cell_type": "markdown",
   "id": "5dbcef07-a903-4998-8c61-24bbe33eab32",
   "metadata": {},
   "source": [
    "### Positive examples"
   ]
  },
  {
   "cell_type": "code",
   "execution_count": 15,
   "id": "8f27ebca-918b-4dbe-a16f-ecf8b09ccd79",
   "metadata": {},
   "outputs": [
    {
     "name": "stdout",
     "output_type": "stream",
     "text": [
      "['service was really good i really recomend the airline smiling_face_with_hearts']\n"
     ]
    },
    {
     "data": {
      "text/plain": [
       "'Probability of being a positive sentiment: 0.8875195481486909'"
      ]
     },
     "execution_count": 15,
     "metadata": {},
     "output_type": "execute_result"
    }
   ],
   "source": [
    "proof_sentiment_predicted(\n",
    "    '''\n",
    "    @airwest service was really good. I really recomend the airline 🥰\n",
    "    '''\n",
    ")"
   ]
  },
  {
   "cell_type": "code",
   "execution_count": 16,
   "id": "6023a0bb-fd7f-4119-af7a-97a29518cd04",
   "metadata": {},
   "outputs": [
    {
     "name": "stdout",
     "output_type": "stream",
     "text": [
      "['i like that airline good service can’t wait to be back on the new istanbul airport airplane️']\n"
     ]
    },
    {
     "data": {
      "text/plain": [
       "'Probability of being a positive sentiment: 0.7838381955192462'"
      ]
     },
     "execution_count": 16,
     "metadata": {},
     "output_type": "execute_result"
    }
   ],
   "source": [
    "proof_sentiment_predicted(\n",
    "    '''\n",
    "    I like that airline , good service, can’t wait to be back on the new Istanbul Airport  ✈️\n",
    "    '''\n",
    ")"
   ]
  },
  {
   "cell_type": "code",
   "execution_count": 17,
   "id": "5abdbf1a-0935-44b5-8a2e-f609eac0fd01",
   "metadata": {},
   "outputs": [
    {
     "name": "stdout",
     "output_type": "stream",
     "text": [
      "['thank you cancun it was a pleasure sun_with_faceand thak you to for the support']\n"
     ]
    },
    {
     "data": {
      "text/plain": [
       "'Probability of being a positive sentiment: 0.913499371005189'"
      ]
     },
     "execution_count": 17,
     "metadata": {},
     "output_type": "execute_result"
    }
   ],
   "source": [
    "proof_sentiment_predicted(\n",
    "    '''\n",
    "    Thank you Cancun, it was a pleasure 🌞and thak you to @aeromexico for the support\n",
    "    '''\n",
    ")"
   ]
  }
 ],
 "metadata": {
  "kernelspec": {
   "display_name": "general",
   "language": "python",
   "name": "general"
  },
  "language_info": {
   "codemirror_mode": {
    "name": "ipython",
    "version": 3
   },
   "file_extension": ".py",
   "mimetype": "text/x-python",
   "name": "python",
   "nbconvert_exporter": "python",
   "pygments_lexer": "ipython3",
   "version": "3.9.5"
  }
 },
 "nbformat": 4,
 "nbformat_minor": 5
}
